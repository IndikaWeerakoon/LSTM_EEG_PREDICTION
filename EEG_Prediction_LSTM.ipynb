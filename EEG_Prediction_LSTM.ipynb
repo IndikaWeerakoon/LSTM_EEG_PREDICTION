{
 "cells": [
  {
   "cell_type": "code",
   "execution_count": 136,
   "metadata": {},
   "outputs": [],
   "source": [
    "import arff\n",
    "import pandas as pd\n",
    "import numpy as np\n",
    "from keras.models import Sequential\n",
    "from keras.layers import LSTM,Dense, Dropout,Input,concatenate\n",
    "from keras.models import Model\n",
    "from sklearn.model_selection import train_test_split\n",
    "import matplotlib.pyplot as plt"
   ]
  },
  {
   "cell_type": "code",
   "execution_count": 35,
   "metadata": {},
   "outputs": [],
   "source": [
    "from sklearn import preprocessing"
   ]
  },
  {
   "cell_type": "markdown",
   "metadata": {},
   "source": [
    "### Load Dataset\n",
    "open file ,grab data and convert data set into Pandas DataFrame"
   ]
  },
  {
   "cell_type": "code",
   "execution_count": 36,
   "metadata": {},
   "outputs": [],
   "source": [
    "#inport dataset from arff file\n",
    "fp = open('EEG_Eye_State.arff','r')\n",
    "data = arff.load(fp)"
   ]
  },
  {
   "cell_type": "code",
   "execution_count": 39,
   "metadata": {},
   "outputs": [
    {
     "name": "stdout",
     "output_type": "stream",
     "text": [
      "(14980, 15)\n",
      "['AF3', 'F7', 'F3', 'FC5', 'T7', 'P7', 'O1', 'O2', 'P8', 'T8', 'FC6', 'F4', 'F8', 'AF4', 'eyeDetection']\n",
      "       AF3       F7       F3      FC5       T7       P7       O1       O2  \\\n",
      "0  4329.23  4009.23  4289.23  4148.21  4350.26  4586.15  4096.92  4641.03   \n",
      "1  4324.62  4004.62  4293.85  4148.72  4342.05  4586.67  4097.44  4638.97   \n",
      "2  4327.69  4006.67  4295.38  4156.41  4336.92  4583.59  4096.92  4630.26   \n",
      "3  4328.72  4011.79  4296.41  4155.90  4343.59  4582.56  4097.44  4630.77   \n",
      "4  4326.15  4011.79  4292.31  4151.28  4347.69  4586.67  4095.90  4627.69   \n",
      "5  4321.03  4004.62  4284.10  4153.33  4345.64  4587.18  4093.33  4616.92   \n",
      "6  4319.49  4001.03  4280.51  4151.79  4343.59  4584.62  4089.74  4615.90   \n",
      "7  4325.64  4006.67  4278.46  4143.08  4344.10  4583.08  4087.18  4614.87   \n",
      "8  4326.15  4010.77  4276.41  4139.49  4345.13  4584.10  4091.28  4608.21   \n",
      "9  4326.15  4011.28  4276.92  4142.05  4344.10  4582.56  4092.82  4608.72   \n",
      "\n",
      "        P8       T8      FC6       F4       F8      AF4 eyeDetection  \n",
      "0  4222.05  4238.46  4211.28  4280.51  4635.90  4393.85          0.0  \n",
      "1  4210.77  4226.67  4207.69  4279.49  4632.82  4384.10          0.0  \n",
      "2  4207.69  4222.05  4206.67  4282.05  4628.72  4389.23          0.0  \n",
      "3  4217.44  4235.38  4210.77  4287.69  4632.31  4396.41          0.0  \n",
      "4  4210.77  4244.10  4212.82  4288.21  4632.82  4398.46          0.0  \n",
      "5  4202.56  4232.82  4209.74  4281.03  4628.21  4389.74          0.0  \n",
      "6  4212.31  4226.67  4201.03  4269.74  4625.13  4378.46          0.0  \n",
      "7  4205.64  4230.26  4195.90  4266.67  4622.05  4380.51          0.0  \n",
      "8  4187.69  4229.74  4202.05  4273.85  4627.18  4389.74          0.0  \n",
      "9  4194.36  4228.72  4212.82  4277.95  4637.44  4393.33          0.0  \n"
     ]
    }
   ],
   "source": [
    "#convert it into dataframe'\n",
    "data_array = np.array(data['data'])\n",
    "columns = [data['attributes'][x][0] for x in range(len(data['attributes']))]\n",
    "df = pd.DataFrame(data_array,columns=[columns]).astype('float64')\n"
   ]
  },
  {
   "cell_type": "markdown",
   "metadata": {},
   "source": [
    "#### Describe feature of data set\n",
    "(Count,Mean,standers_deviation,minimum,maximum,quatiels)"
   ]
  },
  {
   "cell_type": "code",
   "execution_count": 43,
   "metadata": {},
   "outputs": [
    {
     "data": {
      "text/html": [
       "<div>\n",
       "<style scoped>\n",
       "    .dataframe tbody tr th:only-of-type {\n",
       "        vertical-align: middle;\n",
       "    }\n",
       "\n",
       "    .dataframe tbody tr th {\n",
       "        vertical-align: top;\n",
       "    }\n",
       "\n",
       "    .dataframe thead tr th {\n",
       "        text-align: left;\n",
       "    }\n",
       "</style>\n",
       "<table border=\"1\" class=\"dataframe\">\n",
       "  <thead>\n",
       "    <tr>\n",
       "      <th></th>\n",
       "      <th>AF3</th>\n",
       "      <th>F7</th>\n",
       "      <th>F3</th>\n",
       "      <th>FC5</th>\n",
       "      <th>T7</th>\n",
       "      <th>P7</th>\n",
       "      <th>O1</th>\n",
       "      <th>O2</th>\n",
       "      <th>P8</th>\n",
       "      <th>T8</th>\n",
       "      <th>FC6</th>\n",
       "      <th>F4</th>\n",
       "      <th>F8</th>\n",
       "      <th>AF4</th>\n",
       "      <th>eyeDetection</th>\n",
       "    </tr>\n",
       "  </thead>\n",
       "  <tbody>\n",
       "    <tr>\n",
       "      <th>count</th>\n",
       "      <td>14980.000000</td>\n",
       "      <td>14980.000000</td>\n",
       "      <td>14980.000000</td>\n",
       "      <td>14980.000000</td>\n",
       "      <td>14980.000000</td>\n",
       "      <td>14980.000000</td>\n",
       "      <td>14980.000000</td>\n",
       "      <td>14980.000000</td>\n",
       "      <td>14980.000000</td>\n",
       "      <td>14980.000000</td>\n",
       "      <td>14980.000000</td>\n",
       "      <td>14980.000000</td>\n",
       "      <td>14980.000000</td>\n",
       "      <td>14980.000000</td>\n",
       "      <td>14980.000000</td>\n",
       "    </tr>\n",
       "    <tr>\n",
       "      <th>mean</th>\n",
       "      <td>4321.917777</td>\n",
       "      <td>4009.767694</td>\n",
       "      <td>4264.022433</td>\n",
       "      <td>4164.946326</td>\n",
       "      <td>4341.741075</td>\n",
       "      <td>4644.022379</td>\n",
       "      <td>4110.400160</td>\n",
       "      <td>4616.056904</td>\n",
       "      <td>4218.826610</td>\n",
       "      <td>4231.316200</td>\n",
       "      <td>4202.456900</td>\n",
       "      <td>4279.232774</td>\n",
       "      <td>4615.205336</td>\n",
       "      <td>4416.435832</td>\n",
       "      <td>0.448798</td>\n",
       "    </tr>\n",
       "    <tr>\n",
       "      <th>std</th>\n",
       "      <td>2492.072174</td>\n",
       "      <td>45.941672</td>\n",
       "      <td>44.428052</td>\n",
       "      <td>5216.404632</td>\n",
       "      <td>34.738821</td>\n",
       "      <td>2924.789537</td>\n",
       "      <td>4600.926543</td>\n",
       "      <td>29.292603</td>\n",
       "      <td>2136.408523</td>\n",
       "      <td>38.050903</td>\n",
       "      <td>37.785981</td>\n",
       "      <td>41.544312</td>\n",
       "      <td>1208.369958</td>\n",
       "      <td>5891.285043</td>\n",
       "      <td>0.497388</td>\n",
       "    </tr>\n",
       "    <tr>\n",
       "      <th>min</th>\n",
       "      <td>1030.770000</td>\n",
       "      <td>2830.770000</td>\n",
       "      <td>1040.000000</td>\n",
       "      <td>2453.330000</td>\n",
       "      <td>2089.740000</td>\n",
       "      <td>2768.210000</td>\n",
       "      <td>2086.150000</td>\n",
       "      <td>4567.180000</td>\n",
       "      <td>1357.950000</td>\n",
       "      <td>1816.410000</td>\n",
       "      <td>3273.330000</td>\n",
       "      <td>2257.950000</td>\n",
       "      <td>86.666700</td>\n",
       "      <td>1366.150000</td>\n",
       "      <td>0.000000</td>\n",
       "    </tr>\n",
       "    <tr>\n",
       "      <th>25%</th>\n",
       "      <td>4280.510000</td>\n",
       "      <td>3990.770000</td>\n",
       "      <td>4250.260000</td>\n",
       "      <td>4108.210000</td>\n",
       "      <td>4331.790000</td>\n",
       "      <td>4611.790000</td>\n",
       "      <td>4057.950000</td>\n",
       "      <td>4604.620000</td>\n",
       "      <td>4190.770000</td>\n",
       "      <td>4220.510000</td>\n",
       "      <td>4190.260000</td>\n",
       "      <td>4267.690000</td>\n",
       "      <td>4590.770000</td>\n",
       "      <td>4342.050000</td>\n",
       "      <td>0.000000</td>\n",
       "    </tr>\n",
       "    <tr>\n",
       "      <th>50%</th>\n",
       "      <td>4294.360000</td>\n",
       "      <td>4005.640000</td>\n",
       "      <td>4262.560000</td>\n",
       "      <td>4120.510000</td>\n",
       "      <td>4338.970000</td>\n",
       "      <td>4617.950000</td>\n",
       "      <td>4070.260000</td>\n",
       "      <td>4613.330000</td>\n",
       "      <td>4199.490000</td>\n",
       "      <td>4229.230000</td>\n",
       "      <td>4200.510000</td>\n",
       "      <td>4276.920000</td>\n",
       "      <td>4603.080000</td>\n",
       "      <td>4354.870000</td>\n",
       "      <td>0.000000</td>\n",
       "    </tr>\n",
       "    <tr>\n",
       "      <th>75%</th>\n",
       "      <td>4311.790000</td>\n",
       "      <td>4023.080000</td>\n",
       "      <td>4270.770000</td>\n",
       "      <td>4132.310000</td>\n",
       "      <td>4347.180000</td>\n",
       "      <td>4626.670000</td>\n",
       "      <td>4083.590000</td>\n",
       "      <td>4624.100000</td>\n",
       "      <td>4209.230000</td>\n",
       "      <td>4239.490000</td>\n",
       "      <td>4211.280000</td>\n",
       "      <td>4287.180000</td>\n",
       "      <td>4617.440000</td>\n",
       "      <td>4372.820000</td>\n",
       "      <td>1.000000</td>\n",
       "    </tr>\n",
       "    <tr>\n",
       "      <th>max</th>\n",
       "      <td>309231.000000</td>\n",
       "      <td>7804.620000</td>\n",
       "      <td>6880.510000</td>\n",
       "      <td>642564.000000</td>\n",
       "      <td>6474.360000</td>\n",
       "      <td>362564.000000</td>\n",
       "      <td>567179.000000</td>\n",
       "      <td>7264.100000</td>\n",
       "      <td>265641.000000</td>\n",
       "      <td>6674.360000</td>\n",
       "      <td>6823.080000</td>\n",
       "      <td>7002.560000</td>\n",
       "      <td>152308.000000</td>\n",
       "      <td>715897.000000</td>\n",
       "      <td>1.000000</td>\n",
       "    </tr>\n",
       "  </tbody>\n",
       "</table>\n",
       "</div>"
      ],
      "text/plain": [
       "                 AF3            F7            F3            FC5            T7  \\\n",
       "count   14980.000000  14980.000000  14980.000000   14980.000000  14980.000000   \n",
       "mean     4321.917777   4009.767694   4264.022433    4164.946326   4341.741075   \n",
       "std      2492.072174     45.941672     44.428052    5216.404632     34.738821   \n",
       "min      1030.770000   2830.770000   1040.000000    2453.330000   2089.740000   \n",
       "25%      4280.510000   3990.770000   4250.260000    4108.210000   4331.790000   \n",
       "50%      4294.360000   4005.640000   4262.560000    4120.510000   4338.970000   \n",
       "75%      4311.790000   4023.080000   4270.770000    4132.310000   4347.180000   \n",
       "max    309231.000000   7804.620000   6880.510000  642564.000000   6474.360000   \n",
       "\n",
       "                  P7             O1            O2             P8  \\\n",
       "count   14980.000000   14980.000000  14980.000000   14980.000000   \n",
       "mean     4644.022379    4110.400160   4616.056904    4218.826610   \n",
       "std      2924.789537    4600.926543     29.292603    2136.408523   \n",
       "min      2768.210000    2086.150000   4567.180000    1357.950000   \n",
       "25%      4611.790000    4057.950000   4604.620000    4190.770000   \n",
       "50%      4617.950000    4070.260000   4613.330000    4199.490000   \n",
       "75%      4626.670000    4083.590000   4624.100000    4209.230000   \n",
       "max    362564.000000  567179.000000   7264.100000  265641.000000   \n",
       "\n",
       "                 T8           FC6            F4             F8            AF4  \\\n",
       "count  14980.000000  14980.000000  14980.000000   14980.000000   14980.000000   \n",
       "mean    4231.316200   4202.456900   4279.232774    4615.205336    4416.435832   \n",
       "std       38.050903     37.785981     41.544312    1208.369958    5891.285043   \n",
       "min     1816.410000   3273.330000   2257.950000      86.666700    1366.150000   \n",
       "25%     4220.510000   4190.260000   4267.690000    4590.770000    4342.050000   \n",
       "50%     4229.230000   4200.510000   4276.920000    4603.080000    4354.870000   \n",
       "75%     4239.490000   4211.280000   4287.180000    4617.440000    4372.820000   \n",
       "max     6674.360000   6823.080000   7002.560000  152308.000000  715897.000000   \n",
       "\n",
       "       eyeDetection  \n",
       "count  14980.000000  \n",
       "mean       0.448798  \n",
       "std        0.497388  \n",
       "min        0.000000  \n",
       "25%        0.000000  \n",
       "50%        0.000000  \n",
       "75%        1.000000  \n",
       "max        1.000000  "
      ]
     },
     "execution_count": 43,
     "metadata": {},
     "output_type": "execute_result"
    }
   ],
   "source": [
    "df.describe()"
   ]
  },
  {
   "cell_type": "markdown",
   "metadata": {},
   "source": [
    "### Prepare data set for LSTM 1 \n",
    "(one output from 10 nodes (timesteps))"
   ]
  },
  {
   "cell_type": "code",
   "execution_count": 445,
   "metadata": {},
   "outputs": [],
   "source": [
    " def dataColectionShift(data,steps):\n",
    "    X = pd.DataFrame()\n",
    "    Y = pd.DataFrame()\n",
    "    columnNames = data.columns\n",
    "    for i in range(steps,0,-1):\n",
    "        for col in columnNames:\n",
    "            X[col[0]+\"_t-\"+str(i)] = data.shift(i - (steps+1))[col]\n",
    "    for col in columnNames:\n",
    "        Y[col[0]+\"t\"] = data.shift(-(steps))[col]\n",
    "    X = X.dropna()\n",
    "    Y = Y.dropna()\n",
    "    return X,Y"
   ]
  },
  {
   "cell_type": "code",
   "execution_count": 449,
   "metadata": {
    "scrolled": true
   },
   "outputs": [
    {
     "name": "stdout",
     "output_type": "stream",
     "text": [
      "(14970, 10, 1) (14970, 1)\n"
     ]
    }
   ],
   "source": [
    "eye_x_1,y = dataColectionShift(df['eyeDetection'],10)\n",
    "eeg_x,eeg_y = dataColectionShift(df.iloc[:,0:14],10)\n",
    "\n",
    "### noemalize data set\n",
    "eye_x = preprocessing.normalize(eye_x_1)\n",
    "eeg_x = preprocessing.normalize(eeg_x)\n",
    "\n",
    "eye_x = np.reshape(eye_x,(eye_x.shape[0],10,1))\n",
    "eeg_x = np.reshape(eeg_x,(eeg_x.shape[0],10,14))\n",
    "print(eye_x.shape,y.shape)"
   ]
  },
  {
   "cell_type": "code",
   "execution_count": null,
   "metadata": {},
   "outputs": [],
   "source": [
    "\n",
    "    "
   ]
  },
  {
   "cell_type": "markdown",
   "metadata": {},
   "source": [
    "#### spliting dataset into training ,Testing and Validation\n",
    "\n",
    " testing Trainig Split"
   ]
  },
  {
   "cell_type": "code",
   "execution_count": 610,
   "metadata": {},
   "outputs": [],
   "source": [
    "#eye data classification\n",
    "eye_train_x,eye_test_x,eye_train_y,eye_test_y = train_test_split(eye_x,y,test_size = 0.2,random_state = 1024,shuffle=False)\n",
    "\n",
    "#eeg data classification\n",
    "eeg_train_x,eeg_test_x,eeg_train_y,eeg_test_y = train_test_split(eeg_x, eeg_y,test_size = 0.2,random_state = 1024,shuffle=False) \n"
   ]
  },
  {
   "cell_type": "markdown",
   "metadata": {},
   "source": [
    "  Training ,Validation Split"
   ]
  },
  {
   "cell_type": "code",
   "execution_count": 451,
   "metadata": {},
   "outputs": [],
   "source": [
    "#eye dagta split\n",
    "eye_trainX, eye_valX, eye_trainY, eye_valY = train_test_split(eye_train_x,eye_train_y,test_size = 0.1,random_state = 1024,shuffle=False)\n",
    "\n",
    "#eeg data split\n",
    "eeg_trainX, eeg_valX, eeg_trainY, eeg_valY = train_test_split(eeg_train_x,eeg_train_y,test_size = 0.1,random_state = 1024,shuffle=False)\n"
   ]
  },
  {
   "cell_type": "markdown",
   "metadata": {},
   "source": [
    "### Prepare data for LSTM model 2\n",
    "( 10 output Predition from 10 time steps)"
   ]
  },
  {
   "cell_type": "code",
   "execution_count": 602,
   "metadata": {},
   "outputs": [],
   "source": [
    "def dataColectionShift2(data,step):\n",
    "    dataY = data.shift(-1)\n",
    "    \n",
    "    data = np.array(data)\n",
    "    dataY = np.array(dataY)\n",
    "    x = []\n",
    "    y = []\n",
    "    for k in range(0,data.shape[0]-step):\n",
    "        x.append(data[k:k+step])\n",
    "    for k in range(0,dataY.shape[0]-step):\n",
    "        y.append(dataY[k:k+step])\n",
    "    x = np.array(x)\n",
    "    y = np.array(y)\n",
    "    \n",
    "    return x,y"
   ]
  },
  {
   "cell_type": "code",
   "execution_count": 603,
   "metadata": {},
   "outputs": [],
   "source": [
    "eye_x_2,y_2 = dataColectionShift2(df['eyeDetection'],10)\n",
    "eeg_x_2,eeg_y_2 = dataColectionShift2(df.iloc[:,0:14],10)\n",
    "y_2 = y_2.reshape(y_2.shape[0],10)"
   ]
  },
  {
   "cell_type": "code",
   "execution_count": 604,
   "metadata": {
    "scrolled": true
   },
   "outputs": [
    {
     "name": "stdout",
     "output_type": "stream",
     "text": [
      "(14970, 10, 1) (14970, 10)\n",
      "(14970, 10, 14) (14970, 10, 14)\n"
     ]
    }
   ],
   "source": [
    "print(eye_x_2.shape,y_2.shape)\n",
    "print(eeg_x_2.shape,eeg_y_2.shape)"
   ]
  },
  {
   "cell_type": "code",
   "execution_count": 605,
   "metadata": {},
   "outputs": [],
   "source": [
    "#eye_x_2 = preprocessing.normalize(eye_x_2.reshape((eye_x_2.shape[0],10))).reshape((eye_x_2.shape[0],10,1))\n",
    "#eeg_x_2 =  preprocessing.normalize(eeg_x_2.reshape((eeg_x_2.shape[0],140))).reshape((eeg_x_2.shape[0],10,14))"
   ]
  },
  {
   "cell_type": "markdown",
   "metadata": {},
   "source": [
    "#### Data spliting proccess forLSTM model 2"
   ]
  },
  {
   "cell_type": "code",
   "execution_count": 606,
   "metadata": {},
   "outputs": [],
   "source": [
    "#eye data classification for model 2\n",
    "eye_train_x_2,eye_test_x_2,eye_train_y_2,eye_test_y_2 = train_test_split(eye_x_2,y_2,test_size = 0.2,random_state = 1024,shuffle=False)\n",
    "\n",
    "#eeg data classification for model 2\n",
    "eeg_train_x_2,eeg_test_x_2,eeg_train_y_2,eeg_test_y_2 = train_test_split(eeg_x_2, eeg_y_2,test_size = 0.2,random_state = 1024,shuffle=False) \n"
   ]
  },
  {
   "cell_type": "code",
   "execution_count": 607,
   "metadata": {},
   "outputs": [
    {
     "data": {
      "text/plain": [
       "(11976, 10, 14)"
      ]
     },
     "execution_count": 607,
     "metadata": {},
     "output_type": "execute_result"
    }
   ],
   "source": [
    "eeg_train_x_2.shape"
   ]
  },
  {
   "cell_type": "markdown",
   "metadata": {},
   "source": [
    "validation data split"
   ]
  },
  {
   "cell_type": "code",
   "execution_count": 608,
   "metadata": {},
   "outputs": [],
   "source": [
    "#eye dagta split\n",
    "eye_trainX_2, eye_valX_2, eye_trainY_2, eye_valY_2 = train_test_split(eye_train_x_2,eye_train_y_2,test_size = 0.1,random_state = 1024,shuffle=False)\n",
    "\n",
    "#eeg data split\n",
    "eeg_trainX_2, eeg_valX_2, eeg_trainY_2, eeg_valY_2 = train_test_split(eeg_train_x_2,eeg_train_y_2,test_size = 0.1,random_state = 1024,shuffle=False)\n"
   ]
  },
  {
   "cell_type": "code",
   "execution_count": 609,
   "metadata": {},
   "outputs": [
    {
     "data": {
      "text/plain": [
       "(11976, 10, 1)"
      ]
     },
     "execution_count": 609,
     "metadata": {},
     "output_type": "execute_result"
    }
   ],
   "source": [
    "eye_train_x_2.shape"
   ]
  },
  {
   "cell_type": "markdown",
   "metadata": {},
   "source": [
    "## Create model for LSTM model 1"
   ]
  },
  {
   "cell_type": "code",
   "execution_count": 551,
   "metadata": {},
   "outputs": [],
   "source": [
    "#lstm layer for eye data\n",
    "eye_input = Input(shape=(10,1),name=\"InputEye\")\n",
    "eye_lstm = LSTM(16,return_sequences = True)(eye_input)\n",
    "eye_drop = Dropout(0.8)(eye_lstm)\n",
    "eye_lstm_2 = LSTM(32)(eye_drop)\n",
    "eye_drop_2 = Dropout(0.8)(eye_lstm_2)\n",
    "\n",
    "#lstm for eeg data\n",
    "eeg_input = Input(shape=(10,14),name='InputEeg')\n",
    "eeg_lstm = LSTM(25,return_sequences=True)(eeg_input)\n",
    "eeg_drop = Dropout(0.6)(eeg_lstm)\n",
    "eeg_lstm_2 = LSTM(30)(eeg_drop)\n",
    "eeg_drop_2 = Dropout(0.4)(eeg_lstm_2)"
   ]
  },
  {
   "cell_type": "code",
   "execution_count": 552,
   "metadata": {},
   "outputs": [],
   "source": [
    "# dense layer for each lstm layers\n",
    "eye_output = Dense(1,activation = 'tanh', name='eyeDense')(eye_drop_2)\n",
    "eeg_output = Dense(1,activation = 'tanh', name='eegDense')(eeg_drop_2)"
   ]
  },
  {
   "cell_type": "code",
   "execution_count": 553,
   "metadata": {},
   "outputs": [
    {
     "name": "stdout",
     "output_type": "stream",
     "text": [
      "__________________________________________________________________________________________________\n",
      "Layer (type)                    Output Shape         Param #     Connected to                     \n",
      "==================================================================================================\n",
      "InputEye (InputLayer)           (None, 10, 1)        0                                            \n",
      "__________________________________________________________________________________________________\n",
      "InputEeg (InputLayer)           (None, 10, 14)       0                                            \n",
      "__________________________________________________________________________________________________\n",
      "lstm_57 (LSTM)                  (None, 10, 16)       1152        InputEye[0][0]                   \n",
      "__________________________________________________________________________________________________\n",
      "lstm_59 (LSTM)                  (None, 10, 25)       4000        InputEeg[0][0]                   \n",
      "__________________________________________________________________________________________________\n",
      "dropout_55 (Dropout)            (None, 10, 16)       0           lstm_57[0][0]                    \n",
      "__________________________________________________________________________________________________\n",
      "dropout_57 (Dropout)            (None, 10, 25)       0           lstm_59[0][0]                    \n",
      "__________________________________________________________________________________________________\n",
      "lstm_58 (LSTM)                  (None, 32)           6272        dropout_55[0][0]                 \n",
      "__________________________________________________________________________________________________\n",
      "lstm_60 (LSTM)                  (None, 30)           6720        dropout_57[0][0]                 \n",
      "__________________________________________________________________________________________________\n",
      "dropout_56 (Dropout)            (None, 32)           0           lstm_58[0][0]                    \n",
      "__________________________________________________________________________________________________\n",
      "dropout_58 (Dropout)            (None, 30)           0           lstm_60[0][0]                    \n",
      "__________________________________________________________________________________________________\n",
      "eyeDense (Dense)                (None, 1)            33          dropout_56[0][0]                 \n",
      "__________________________________________________________________________________________________\n",
      "eegDense (Dense)                (None, 1)            31          dropout_58[0][0]                 \n",
      "__________________________________________________________________________________________________\n",
      "concatenate_30 (Concatenate)    (None, 2)            0           eyeDense[0][0]                   \n",
      "                                                                 eegDense[0][0]                   \n",
      "__________________________________________________________________________________________________\n",
      "Output_sigmoid (Dense)          (None, 1)            3           concatenate_30[0][0]             \n",
      "==================================================================================================\n",
      "Total params: 18,211\n",
      "Trainable params: 18,211\n",
      "Non-trainable params: 0\n",
      "__________________________________________________________________________________________________\n",
      "None\n",
      "Tensor(\"Output_sigmoid_15/Sigmoid:0\", shape=(?, 1), dtype=float32)\n"
     ]
    },
    {
     "name": "stderr",
     "output_type": "stream",
     "text": [
      "C:\\Users\\Indika\\AppData\\Local\\conda\\conda\\envs\\tensorflow\\lib\\site-packages\\ipykernel_launcher.py:5: UserWarning: Update your `Model` call to the Keras 2 API: `Model(inputs=[<tf.Tenso..., outputs=Tensor(\"Ou...)`\n",
      "  \"\"\"\n"
     ]
    }
   ],
   "source": [
    "concat = concatenate([eye_output,eeg_output],axis=1)\n",
    "output = Dense(1,activation = 'sigmoid',name = 'Output_sigmoid')(concat)\n",
    "\n",
    "#create final model\n",
    "model = Model(input = [eye_input,eeg_input],output = output)\n",
    "print(model.summary())\n",
    "print(model.output)"
   ]
  },
  {
   "cell_type": "markdown",
   "metadata": {},
   "source": [
    "### Output Size LSTM model 1"
   ]
  },
  {
   "cell_type": "code",
   "execution_count": 554,
   "metadata": {},
   "outputs": [
    {
     "name": "stdout",
     "output_type": "stream",
     "text": [
      "(?, 1)\n"
     ]
    }
   ],
   "source": [
    "print (model.output.shape)"
   ]
  },
  {
   "cell_type": "markdown",
   "metadata": {},
   "source": [
    "##### Explaination of output\n",
    "model give one out put for 10 timesteps."
   ]
  },
  {
   "cell_type": "code",
   "execution_count": 459,
   "metadata": {},
   "outputs": [],
   "source": [
    "#implement the model"
   ]
  },
  {
   "cell_type": "code",
   "execution_count": 460,
   "metadata": {},
   "outputs": [
    {
     "name": "stdout",
     "output_type": "stream",
     "text": [
      "Train on 10778 samples, validate on 1198 samples\n",
      "Epoch 1/10\n",
      "10778/10778 [==============================] - 13s 1ms/step - loss: 0.3270 - acc: 0.9265 - val_loss: 0.2030 - val_acc: 0.9950\n",
      "Epoch 2/10\n",
      "10778/10778 [==============================] - 6s 592us/step - loss: 0.1962 - acc: 0.9893 - val_loss: 0.1583 - val_acc: 0.9967\n",
      "Epoch 3/10\n",
      "10778/10778 [==============================] - 7s 608us/step - loss: 0.1563 - acc: 0.9905 - val_loss: 0.1257 - val_acc: 0.9975\n",
      "Epoch 4/10\n",
      "10778/10778 [==============================] - 7s 678us/step - loss: 0.1297 - acc: 0.9904 - val_loss: 0.1060 - val_acc: 0.9958\n",
      "Epoch 5/10\n",
      "10778/10778 [==============================] - 7s 642us/step - loss: 0.1085 - acc: 0.9915 - val_loss: 0.0863 - val_acc: 0.9975\n",
      "Epoch 6/10\n",
      "10778/10778 [==============================] - 7s 604us/step - loss: 0.0936 - acc: 0.9919 - val_loss: 0.0713 - val_acc: 0.9983\n",
      "Epoch 7/10\n",
      "10778/10778 [==============================] - 7s 605us/step - loss: 0.0826 - acc: 0.9917 - val_loss: 0.0606 - val_acc: 0.9983\n",
      "Epoch 8/10\n",
      "10778/10778 [==============================] - 7s 605us/step - loss: 0.0733 - acc: 0.9921 - val_loss: 0.0509 - val_acc: 0.9992\n",
      "Epoch 9/10\n",
      "10778/10778 [==============================] - 7s 610us/step - loss: 0.0653 - acc: 0.9927 - val_loss: 0.0442 - val_acc: 0.9992\n",
      "Epoch 10/10\n",
      "10778/10778 [==============================] - 7s 604us/step - loss: 0.0594 - acc: 0.9927 - val_loss: 0.0389 - val_acc: 0.9992\n"
     ]
    }
   ],
   "source": [
    "model.compile(optimizer='adam', loss='binary_crossentropy',metrics=[\"accuracy\"])\n",
    "results = model.fit([eye_trainX, eeg_trainX], [eye_trainY], validation_data=([eye_valX,eeg_valX],eye_valY),\n",
    "          epochs=10, batch_size=32)"
   ]
  },
  {
   "cell_type": "code",
   "execution_count": 461,
   "metadata": {},
   "outputs": [],
   "source": [
    "#loss plot for training result"
   ]
  },
  {
   "cell_type": "markdown",
   "metadata": {},
   "source": [
    "## Analyse LSTM model 1"
   ]
  },
  {
   "cell_type": "code",
   "execution_count": 555,
   "metadata": {},
   "outputs": [
    {
     "data": {
      "image/png": "[encoded data removed]",
      "text/plain": [
       "<Figure size 432x288 with 1 Axes>"
      ]
     },
     "metadata": {},
     "output_type": "display_data"
    }
   ],
   "source": [
    "plt.plot(results.history['loss'],c='b')\n",
    "plt.plot(results.history['val_loss'],c='r')\n",
    "plt.show()"
   ]
  },
  {
   "cell_type": "code",
   "execution_count": 556,
   "metadata": {},
   "outputs": [
    {
     "data": {
      "image/png": "[encoded data removed]",
      "text/plain": [
       "<Figure size 432x288 with 1 Axes>"
      ]
     },
     "metadata": {},
     "output_type": "display_data"
    }
   ],
   "source": [
    "plt.plot(results.history['acc'],c='b')\n",
    "plt.plot(results.history['val_acc'],c='r')\n",
    "plt.show()"
   ]
  },
  {
   "cell_type": "code",
   "execution_count": 557,
   "metadata": {},
   "outputs": [],
   "source": [
    "y_predict = model.predict([eye_test_x,eeg_test_x])"
   ]
  },
  {
   "cell_type": "code",
   "execution_count": 558,
   "metadata": {},
   "outputs": [
    {
     "data": {
      "image/png": "[encoded data removed]",
      "text/plain": [
       "<Figure size 432x288 with 1 Axes>"
      ]
     },
     "metadata": {},
     "output_type": "display_data"
    }
   ],
   "source": [
    "plt.scatter(y_predict,range(len(y_predict)),c='b')\n",
    "plt.scatter(eye_test_y,range(len(eye_test_y)),c='r')\n",
    "plt.show()\n",
    "## blue dots show predict values\n",
    "## red dots show expected values"
   ]
  },
  {
   "cell_type": "markdown",
   "metadata": {},
   "source": [
    "#### discution for LSTM model 1 prection\n",
    "According to the above graph ,we can see that the predictions are almost correct"
   ]
  },
  {
   "cell_type": "markdown",
   "metadata": {},
   "source": [
    "## Create model for LSTM model 2"
   ]
  },
  {
   "cell_type": "code",
   "execution_count": 612,
   "metadata": {},
   "outputs": [],
   "source": [
    "#lstm layer for eye data\n",
    "eye_input_m2 = Input(shape=(10,1),name=\"InputEyeM2\")\n",
    "eye_lstm_m2 = LSTM(16,return_sequences = True)(eye_input_m2)\n",
    "eye_drop_m2 = Dropout(0.8)(eye_lstm_m2)\n",
    "eye_lstm2_m2 = LSTM(16,return_sequences = True)(eye_input_m2)\n",
    "eye_drop_m2 = Dropout(0.8)(eye_lstm2_m2)\n",
    "eye_lstm_2_m2 = LSTM(32)(eye_drop2_m2)\n",
    "eye_drop_2_m2 = Dropout(0.8)(eye_lstm_2_m2)\n",
    "\n",
    "#lstm for eeg data\n",
    "eeg_input_m2 = Input(shape=(10,14),name='InputEegM2')\n",
    "eeg_lstm_m2 = LSTM(25,return_sequences=True)(eeg_input_m2)\n",
    "eeg_drop_m2 = Dropout(0.6)(eeg_lstm_m2)\n",
    "eeg_lstm_2_m2 = LSTM(32)(eeg_drop_m2)\n",
    "eeg_drop_2_m2 = Dropout(0.4)(eeg_lstm_2_m2)"
   ]
  },
  {
   "cell_type": "code",
   "execution_count": 613,
   "metadata": {},
   "outputs": [],
   "source": [
    "# dense layer for each lstm layers\n",
    "eye_output_m2 = Dense(1,activation = 'tanh', name='eyeDenseM2')(eye_drop_2_m2)\n",
    "eeg_output_m2 = Dense(1,activation = 'tanh', name='eegDenseM2')(eeg_drop_2_m2)"
   ]
  },
  {
   "cell_type": "code",
   "execution_count": 629,
   "metadata": {},
   "outputs": [
    {
     "name": "stdout",
     "output_type": "stream",
     "text": [
      "__________________________________________________________________________________________________\n",
      "Layer (type)                    Output Shape         Param #     Connected to                     \n",
      "==================================================================================================\n",
      "InputEyeM2 (InputLayer)         (None, 10, 1)        0                                            \n",
      "__________________________________________________________________________________________________\n",
      "InputEegM2 (InputLayer)         (None, 10, 14)       0                                            \n",
      "__________________________________________________________________________________________________\n",
      "lstm_77 (LSTM)                  (None, 10, 16)       1152        InputEyeM2[0][0]                 \n",
      "__________________________________________________________________________________________________\n",
      "lstm_79 (LSTM)                  (None, 10, 25)       4000        InputEegM2[0][0]                 \n",
      "__________________________________________________________________________________________________\n",
      "dropout_75 (Dropout)            (None, 10, 16)       0           lstm_77[0][0]                    \n",
      "__________________________________________________________________________________________________\n",
      "dropout_77 (Dropout)            (None, 10, 25)       0           lstm_79[0][0]                    \n",
      "__________________________________________________________________________________________________\n",
      "lstm_78 (LSTM)                  (None, 32)           6272        dropout_75[0][0]                 \n",
      "__________________________________________________________________________________________________\n",
      "lstm_80 (LSTM)                  (None, 32)           7424        dropout_77[0][0]                 \n",
      "__________________________________________________________________________________________________\n",
      "dropout_76 (Dropout)            (None, 32)           0           lstm_78[0][0]                    \n",
      "__________________________________________________________________________________________________\n",
      "dropout_78 (Dropout)            (None, 32)           0           lstm_80[0][0]                    \n",
      "__________________________________________________________________________________________________\n",
      "eyeDenseM2 (Dense)              (None, 1)            33          dropout_76[0][0]                 \n",
      "__________________________________________________________________________________________________\n",
      "eegDenseM2 (Dense)              (None, 1)            33          dropout_78[0][0]                 \n",
      "__________________________________________________________________________________________________\n",
      "concatenate_45 (Concatenate)    (None, 2)            0           eyeDenseM2[0][0]                 \n",
      "                                                                 eegDenseM2[0][0]                 \n",
      "__________________________________________________________________________________________________\n",
      "dense_11 (Dense)                (None, 1)            3           concatenate_45[0][0]             \n",
      "__________________________________________________________________________________________________\n",
      "Output_sigmoid_m2 (Dense)       (None, 10)           20          dense_11[0][0]                   \n",
      "==================================================================================================\n",
      "Total params: 18,937\n",
      "Trainable params: 18,937\n",
      "Non-trainable params: 0\n",
      "__________________________________________________________________________________________________\n",
      "None\n",
      "Tensor(\"Output_sigmoid_m2_26/Sigmoid:0\", shape=(?, 10), dtype=float32)\n"
     ]
    },
    {
     "name": "stderr",
     "output_type": "stream",
     "text": [
      "C:\\Users\\Indika\\AppData\\Local\\conda\\conda\\envs\\tensorflow\\lib\\site-packages\\ipykernel_launcher.py:6: UserWarning: Update your `Model` call to the Keras 2 API: `Model(inputs=[<tf.Tenso..., outputs=Tensor(\"Ou...)`\n",
      "  \n"
     ]
    }
   ],
   "source": [
    "concat_m2 = concatenate([eye_output_m2,eeg_output_m2],axis=1)\n",
    "concat_m2 = Dense(1,activation = 'sigmoid')(concat_m2)\n",
    "output_m2 = Dense(10, activation='sigmoid',name ='Output_sigmoid_m2')(concat_m2)\n",
    "\n",
    "#create final model\n",
    "model = Model(input = [eye_input_m2,eeg_input_m2],output = output_m2)\n",
    "print(model.summary())\n",
    "print(model.output)"
   ]
  },
  {
   "cell_type": "code",
   "execution_count": 630,
   "metadata": {},
   "outputs": [
    {
     "name": "stdout",
     "output_type": "stream",
     "text": [
      "Train on 10778 samples, validate on 1198 samples\n",
      "Epoch 1/10\n",
      "10778/10778 [==============================] - 13s 1ms/step - loss: 0.6985 - acc: 0.4931 - val_loss: 0.6908 - val_acc: 0.5447\n",
      "Epoch 2/10\n",
      "10778/10778 [==============================] - 4s 409us/step - loss: 0.6934 - acc: 0.4656 - val_loss: 0.6822 - val_acc: 0.5857\n",
      "Epoch 3/10\n",
      "10778/10778 [==============================] - 4s 401us/step - loss: 0.6922 - acc: 0.5036 - val_loss: 0.6754 - val_acc: 0.7316\n",
      "Epoch 4/10\n",
      "10778/10778 [==============================] - 4s 399us/step - loss: 0.6861 - acc: 0.5162 - val_loss: 0.6499 - val_acc: 0.7316\n",
      "Epoch 5/10\n",
      "10778/10778 [==============================] - 5s 447us/step - loss: 0.6602 - acc: 0.5340 - val_loss: 0.5986 - val_acc: 0.78490s - loss: 0.6603 - acc: 0.533\n",
      "Epoch 6/10\n",
      "10778/10778 [==============================] - 5s 467us/step - loss: 0.6147 - acc: 0.6604 - val_loss: 0.5433 - val_acc: 0.8659\n",
      "Epoch 7/10\n",
      "10778/10778 [==============================] - 5s 441us/step - loss: 0.5633 - acc: 0.8030 - val_loss: 0.4936 - val_acc: 0.9187\n",
      "Epoch 8/10\n",
      "10778/10778 [==============================] - 4s 393us/step - loss: 0.5136 - acc: 0.9484 - val_loss: 0.4476 - val_acc: 0.9977\n",
      "Epoch 9/10\n",
      "10778/10778 [==============================] - 4s 392us/step - loss: 0.4680 - acc: 0.9957 - val_loss: 0.4078 - val_acc: 0.9979\n",
      "Epoch 10/10\n",
      "10778/10778 [==============================] - 4s 397us/step - loss: 0.4271 - acc: 0.9962 - val_loss: 0.3722 - val_acc: 0.9979\n"
     ]
    }
   ],
   "source": [
    "model.compile(optimizer='adam', loss='binary_crossentropy',metrics=[\"accuracy\"])\n",
    "results = model.fit([eye_trainX_2, eeg_trainX_2], [eye_trainY_2], validation_data=([eye_valX_2,eeg_valX_2],eye_valY_2),\n",
    "          epochs=10, batch_size=60)"
   ]
  },
  {
   "cell_type": "markdown",
   "metadata": {},
   "source": [
    "## LSTM model 2 analysys"
   ]
  },
  {
   "cell_type": "code",
   "execution_count": 631,
   "metadata": {},
   "outputs": [
    {
     "data": {
      "image/png": "[encoded data removed]",
      "text/plain": [
       "<Figure size 432x288 with 1 Axes>"
      ]
     },
     "metadata": {},
     "output_type": "display_data"
    }
   ],
   "source": [
    "plt.plot(results.history['loss'],c='b')\n",
    "plt.plot(results.history['val_loss'],c='r')\n",
    "plt.show()"
   ]
  },
  {
   "cell_type": "code",
   "execution_count": 632,
   "metadata": {},
   "outputs": [
    {
     "data": {
      "image/png": "[encoded data removed]",
      "text/plain": [
       "<Figure size 432x288 with 1 Axes>"
      ]
     },
     "metadata": {},
     "output_type": "display_data"
    }
   ],
   "source": [
    "plt.plot(results.history['acc'],c='b')\n",
    "plt.plot(results.history['val_acc'],c='r')\n",
    "plt.show()"
   ]
  },
  {
   "cell_type": "code",
   "execution_count": 633,
   "metadata": {},
   "outputs": [],
   "source": [
    "#loss values are decreased and accuracy became increased....so we can assume that model corectly predicting sequances"
   ]
  },
  {
   "cell_type": "code",
   "execution_count": 638,
   "metadata": {},
   "outputs": [],
   "source": [
    "y_predict_2 = model.predict([eye_test_x_2,eeg_test_x_2])"
   ]
  },
  {
   "cell_type": "code",
   "execution_count": 646,
   "metadata": {},
   "outputs": [
    {
     "data": {
      "text/plain": [
       "(2994,)"
      ]
     },
     "execution_count": 646,
     "metadata": {},
     "output_type": "execute_result"
    }
   ],
   "source": [
    "y_predict_2[:,0].shape"
   ]
  },
  {
   "cell_type": "code",
   "execution_count": 645,
   "metadata": {},
   "outputs": [
    {
     "data": {
      "text/plain": [
       "range(0, 2994)"
      ]
     },
     "execution_count": 645,
     "metadata": {},
     "output_type": "execute_result"
    }
   ],
   "source": [
    "range(len(y_predict_2))"
   ]
  },
  {
   "cell_type": "code",
   "execution_count": 653,
   "metadata": {},
   "outputs": [
    {
     "data": {
      "image/png": "[encoded data removed]",
      "text/plain": [
       "<Figure size 432x288 with 1 Axes>"
      ]
     },
     "metadata": {},
     "output_type": "display_data"
    }
   ],
   "source": [
    "plt.scatter(y_predict_2[:,0],range(len(y_predict_2)),c='b')\n",
    "plt.scatter(eye_test_y_2[:,0],range(len(eye_test_y_2)),c='r')\n",
    "plt.show()\n",
    "## blue dots show predict values\n",
    "## red dots show expected values"
   ]
  },
  {
   "cell_type": "code",
   "execution_count": 654,
   "metadata": {},
   "outputs": [],
   "source": [
    "## in the above plots ,blue lines are generated by the network more acurately like expected values..... "
   ]
  },
  {
   "cell_type": "code",
   "execution_count": null,
   "metadata": {},
   "outputs": [],
   "source": []
  }
 ],
 "metadata": {
  "kernelspec": {
   "display_name": "Python 3",
   "language": "python",
   "name": "python3"
  },
  "language_info": {
   "codemirror_mode": {
    "name": "ipython",
    "version": 3
   },
   "file_extension": ".py",
   "mimetype": "text/x-python",
   "name": "python",
   "nbconvert_exporter": "python",
   "pygments_lexer": "ipython3",
   "version": "3.5.5"
  }
 },
 "nbformat": 4,
 "nbformat_minor": 2
}
